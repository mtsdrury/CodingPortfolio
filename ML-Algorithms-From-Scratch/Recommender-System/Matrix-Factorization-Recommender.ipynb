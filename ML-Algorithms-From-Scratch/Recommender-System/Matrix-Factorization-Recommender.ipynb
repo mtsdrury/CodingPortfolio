{
 "cells": [
  {
   "cell_type": "code",
   "execution_count": 24,
   "id": "0409bcfd-292a-4c93-b63d-67e8c0c52672",
   "metadata": {},
   "outputs": [],
   "source": [
    "def generate_ratings_matrix(n_users=100, n_items=100, rank=5, noise=0.1, sparsity=0.8):\n",
    "    U = np.random.randn(n_users, rank)\n",
    "    V = np.random.randn(n_items, rank)\n",
    "    R_true = U @ V.T\n",
    "    R_noisy = R_true + noise * np.random.randn(*R_true.shape)\n",
    "    mask = np.random.rand(*R_noisy.shape) > sparsity\n",
    "    R_sparse = R_noisy * mask\n",
    "    return R_sparse, mask\n"
   ]
  },
  {
   "cell_type": "code",
   "execution_count": 26,
   "id": "3296a7bb-2edf-410b-9281-d16c89a6446d",
   "metadata": {},
   "outputs": [],
   "source": [
    "def matrix_factorization(R, mask, k=5, alpha=0.01, epochs=50):\n",
    "    n_users, n_items = R.shape\n",
    "    U = np.random.randn(n_users, k)\n",
    "    V = np.random.randn(n_items, k)\n",
    "\n",
    "    for epoch in range(epochs):\n",
    "        for i in range(n_users):\n",
    "            for j in range(n_items):\n",
    "                if mask[i, j]:\n",
    "                    prediction = U[i, :] @ V[j, :].T\n",
    "                    error = R[i, j] - prediction\n",
    "                    U[i, :] += alpha * error * V[j, :]\n",
    "                    V[j, :] += alpha * error * U[i, :]\n",
    "        pred_matrix = U @ V.T\n",
    "        train_mse = np.mean(((R - pred_matrix)[mask]) ** 2)\n",
    "        print(f\"Epoch {epoch+1}, Training MSE: {train_mse:.4f}\")\n",
    "\n",
    "    return U, V\n"
   ]
  },
  {
   "cell_type": "code",
   "execution_count": 28,
   "id": "30941f8d-040a-4913-81b8-485fab63fae4",
   "metadata": {},
   "outputs": [],
   "source": [
    "def predict_full_matrix(U, V):\n",
    "    return U @ V.T\n",
    "\n",
    "def evaluate_mse(R_true, R_pred, mask):\n",
    "    return np.mean(((R_true - R_pred)[mask]) ** 2)\n"
   ]
  },
  {
   "cell_type": "code",
   "execution_count": 30,
   "id": "63611858-0e80-4541-83ff-2f50f9892d44",
   "metadata": {},
   "outputs": [
    {
     "name": "stdout",
     "output_type": "stream",
     "text": [
      "Epoch 1, Training MSE: 5.8180\n",
      "Epoch 2, Training MSE: 4.7182\n",
      "Epoch 3, Training MSE: 4.1290\n",
      "Epoch 4, Training MSE: 3.7290\n",
      "Epoch 5, Training MSE: 3.4134\n",
      "Epoch 6, Training MSE: 3.1414\n",
      "Epoch 7, Training MSE: 2.8961\n",
      "Epoch 8, Training MSE: 2.6713\n",
      "Epoch 9, Training MSE: 2.4658\n",
      "Epoch 10, Training MSE: 2.2797\n",
      "Epoch 11, Training MSE: 2.1131\n",
      "Epoch 12, Training MSE: 1.9653\n",
      "Epoch 13, Training MSE: 1.8349\n",
      "Epoch 14, Training MSE: 1.7200\n",
      "Epoch 15, Training MSE: 1.6187\n",
      "Epoch 16, Training MSE: 1.5290\n",
      "Epoch 17, Training MSE: 1.4494\n",
      "Epoch 18, Training MSE: 1.3786\n",
      "Epoch 19, Training MSE: 1.3152\n",
      "Epoch 20, Training MSE: 1.2583\n",
      "Final MSE on observed entries: 1.2583209416715506\n"
     ]
    }
   ],
   "source": [
    "# Generate data\n",
    "R, mask = generate_ratings_matrix(n_users=100, n_items=100, rank=5, noise=0.1, sparsity=0.8)\n",
    "\n",
    "# Train model\n",
    "U, V = matrix_factorization(R, mask, k=5, alpha=0.01, epochs=20)\n",
    "\n",
    "# Predict\n",
    "R_pred = predict_full_matrix(U, V)\n",
    "\n",
    "# Evaluate\n",
    "mse = evaluate_mse(R, R_pred, mask)\n",
    "print(\"Final MSE on observed entries:\", mse)\n"
   ]
  },
  {
   "cell_type": "code",
   "execution_count": 32,
   "id": "024d42fa-8610-4b96-9b1d-1d6efe9d6ecf",
   "metadata": {},
   "outputs": [
    {
     "name": "stdout",
     "output_type": "stream",
     "text": [
      "MSE: 1.2583\n",
      "Normalized MSE: 0.2855\n"
     ]
    }
   ],
   "source": [
    "# Compute regular MSE on observed entries\n",
    "mse = np.mean(((R - R_pred)[mask]) ** 2)\n",
    "\n",
    "# Compute normalized MSE (divide by variance of observed ratings)\n",
    "variance = np.var(R[mask])\n",
    "nmse = mse / variance\n",
    "\n",
    "print(f\"MSE: {mse:.4f}\")\n",
    "print(f\"Normalized MSE: {nmse:.4f}\")\n"
   ]
  },
  {
   "cell_type": "code",
   "execution_count": null,
   "id": "834282ae-a0bc-43d3-99b0-a7b7c249334d",
   "metadata": {},
   "outputs": [],
   "source": []
  }
 ],
 "metadata": {
  "kernelspec": {
   "display_name": "Python 3 (ipykernel)",
   "language": "python",
   "name": "python3"
  },
  "language_info": {
   "codemirror_mode": {
    "name": "ipython",
    "version": 3
   },
   "file_extension": ".py",
   "mimetype": "text/x-python",
   "name": "python",
   "nbconvert_exporter": "python",
   "pygments_lexer": "ipython3",
   "version": "3.12.3"
  }
 },
 "nbformat": 4,
 "nbformat_minor": 5
}
