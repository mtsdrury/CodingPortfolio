{
 "cells": [
  {
   "cell_type": "code",
   "execution_count": 20,
   "id": "b49bd235-9013-4e57-af21-00634ccb644a",
   "metadata": {},
   "outputs": [],
   "source": [
    "from torchvision import datasets, transforms\n",
    "from torch.utils.data import DataLoader, Subset\n",
    "import torch\n",
    "\n",
    "transform = transforms.Compose([transforms.ToTensor()])\n",
    "mnist = datasets.MNIST(root='./data', train=True, download=True, transform=transform)\n",
    "\n",
    "# Filter to digits 1 and 7\n",
    "indices = [i for i, (x, y) in enumerate(mnist) if y in [1, 7]]\n",
    "filtered = Subset(mnist, indices)\n",
    "\n",
    "def get_loader(flatten=False, batch_size=64):\n",
    "    X, y = [], []\n",
    "    for img, label in filtered:\n",
    "        if flatten:\n",
    "            X.append(img.view(-1))\n",
    "        else:\n",
    "            X.append(img)\n",
    "        y.append(1 if label == 7 else 0)\n",
    "    X = torch.stack(X)  # Use torch.stack to combine tensors\n",
    "    y = torch.tensor(y, dtype=torch.float32)\n",
    "    return DataLoader(torch.utils.data.TensorDataset(X, y), batch_size=batch_size, shuffle=True)\n"
   ]
  },
  {
   "cell_type": "code",
   "execution_count": 21,
   "id": "2a9ad418-d247-4d69-ac22-28f13bfba78a",
   "metadata": {},
   "outputs": [],
   "source": [
    "import torch.nn as nn\n",
    "\n",
    "class LogisticRegressionModel(nn.Module):\n",
    "    def __init__(self, input_size):\n",
    "        super().__init__()\n",
    "        self.linear = nn.Linear(input_size, 1)\n",
    "    def forward(self, x):\n",
    "        return torch.sigmoid(self.linear(x))\n"
   ]
  },
  {
   "cell_type": "code",
   "execution_count": 22,
   "id": "ebbf870f-752d-4c16-b79f-16d05535d756",
   "metadata": {},
   "outputs": [],
   "source": [
    "class LinearSVM(nn.Module):\n",
    "    def __init__(self, input_size):\n",
    "        super().__init__()\n",
    "        self.linear = nn.Linear(input_size, 1)\n",
    "    def forward(self, x):\n",
    "        return self.linear(x)\n",
    "\n",
    "def hinge_loss(outputs, labels):\n",
    "    labels = labels * 2 - 1  # Convert to -1 and 1\n",
    "    return torch.mean(torch.clamp(1 - outputs.squeeze() * labels, min=0))\n"
   ]
  },
  {
   "cell_type": "code",
   "execution_count": 23,
   "id": "cf1519e1-9f22-4436-9c4d-840b85c914ee",
   "metadata": {},
   "outputs": [],
   "source": [
    "class SimpleNN(nn.Module):\n",
    "    def __init__(self, input_size):\n",
    "        super().__init__()\n",
    "        self.model = nn.Sequential(\n",
    "            nn.Linear(input_size, 128),\n",
    "            nn.ReLU(),\n",
    "            nn.Linear(128, 1),\n",
    "            nn.Sigmoid()\n",
    "        )\n",
    "    def forward(self, x):\n",
    "        return self.model(x)\n"
   ]
  },
  {
   "cell_type": "code",
   "execution_count": 24,
   "id": "87ddb296-a00a-4d06-aeb7-66981fbfcd4c",
   "metadata": {},
   "outputs": [],
   "source": [
    "class SimpleCNN(nn.Module):\n",
    "    def __init__(self):\n",
    "        super().__init__()\n",
    "        self.model = nn.Sequential(\n",
    "            nn.Conv2d(1, 16, kernel_size=3, padding=1),\n",
    "            nn.ReLU(),\n",
    "            nn.MaxPool2d(2),\n",
    "            nn.Conv2d(16, 32, kernel_size=3, padding=1),\n",
    "            nn.ReLU(),\n",
    "            nn.MaxPool2d(2),\n",
    "            nn.Flatten(),\n",
    "            nn.Linear(32 * 7 * 7, 64),\n",
    "            nn.ReLU(),\n",
    "            nn.Linear(64, 1),\n",
    "            nn.Sigmoid()\n",
    "        )\n",
    "    def forward(self, x):\n",
    "        return self.model(x)\n"
   ]
  },
  {
   "cell_type": "code",
   "execution_count": 25,
   "id": "2b21e059-9c58-4ba0-99de-1e71915d9259",
   "metadata": {},
   "outputs": [],
   "source": [
    "def train_model(model, train_loader, criterion, optimizer, epochs=5):\n",
    "    for epoch in range(epochs):\n",
    "        for inputs, labels in train_loader:\n",
    "            outputs = model(inputs).squeeze()\n",
    "            loss = criterion(outputs, labels)\n",
    "            optimizer.zero_grad()\n",
    "            loss.backward()\n",
    "            optimizer.step()\n",
    "        print(f\"Epoch {epoch+1}, Loss: {loss.item():.4f}\")\n",
    "\n",
    "def evaluate_model(model, data_loader):\n",
    "    model.eval()\n",
    "    correct = 0\n",
    "    total = 0\n",
    "    with torch.no_grad():\n",
    "        for inputs, labels in data_loader:\n",
    "            outputs = model(inputs).squeeze()\n",
    "            preds = (outputs > 0.5).float()\n",
    "            correct += (preds == labels).sum().item()\n",
    "            total += labels.size(0)\n",
    "    acc = correct / total\n",
    "    print(f\"Accuracy: {acc:.4f}\")\n",
    "    return acc\n"
   ]
  },
  {
   "cell_type": "code",
   "execution_count": 32,
   "id": "d0a0f83f-8dbe-4ca3-8a77-1c1e3df292c3",
   "metadata": {},
   "outputs": [
    {
     "name": "stdout",
     "output_type": "stream",
     "text": [
      "Epoch 1, Loss: 0.1721\n",
      "Epoch 2, Loss: 0.0571\n",
      "Epoch 3, Loss: 0.0457\n",
      "Epoch 4, Loss: 0.0398\n",
      "Epoch 5, Loss: 0.0181\n",
      "Accuracy: 0.9857\n",
      "SVM Epoch 1, Loss: 0.0000\n",
      "SVM Epoch 2, Loss: 0.0000\n",
      "SVM Epoch 3, Loss: 0.0000\n",
      "SVM Epoch 4, Loss: 0.0012\n",
      "SVM Epoch 5, Loss: 0.0000\n",
      "Accuracy: 0.9860\n",
      "Epoch 1, Loss: 0.0013\n",
      "Epoch 2, Loss: 0.0012\n",
      "Epoch 3, Loss: 0.0040\n",
      "Epoch 4, Loss: 0.0017\n",
      "Epoch 5, Loss: 0.0001\n",
      "Accuracy: 0.9977\n",
      "Epoch 1, Loss: 0.0011\n",
      "Epoch 2, Loss: 0.0001\n",
      "Epoch 3, Loss: 0.0047\n",
      "Epoch 4, Loss: 0.0005\n",
      "Epoch 5, Loss: 0.0006\n",
      "Accuracy: 0.9980\n"
     ]
    },
    {
     "data": {
      "text/plain": [
       "0.9980010763435073"
      ]
     },
     "execution_count": 32,
     "metadata": {},
     "output_type": "execute_result"
    }
   ],
   "source": [
    "# Logistic Regression\n",
    "loader = get_loader(flatten=True)\n",
    "model = LogisticRegressionModel(784)\n",
    "criterion = nn.BCELoss()\n",
    "optimizer = torch.optim.SGD(model.parameters(), lr=0.01)\n",
    "train_model(model, loader, criterion, optimizer)\n",
    "evaluate_model(model, loader)\n",
    "\n",
    "# SVM\n",
    "model = LinearSVM(784)\n",
    "optimizer = torch.optim.SGD(model.parameters(), lr=0.01)\n",
    "for epoch in range(5):\n",
    "    for inputs, labels in loader:\n",
    "        outputs = model(inputs)\n",
    "        loss = hinge_loss(outputs, labels)\n",
    "        optimizer.zero_grad()\n",
    "        loss.backward()\n",
    "        optimizer.step()\n",
    "    print(f\"SVM Epoch {epoch+1}, Loss: {loss.item():.4f}\")\n",
    "evaluate_model(model, loader)\n",
    "\n",
    "# Neural Net\n",
    "model = SimpleNN(784)\n",
    "criterion = nn.BCELoss()\n",
    "optimizer = torch.optim.Adam(model.parameters(), lr=0.001)\n",
    "train_model(model, loader, criterion, optimizer)\n",
    "evaluate_model(model, loader)\n",
    "\n",
    "# CNN\n",
    "cnn_loader = get_loader(flatten=False)\n",
    "model = SimpleCNN()\n",
    "criterion = nn.BCELoss()\n",
    "optimizer = torch.optim.Adam(model.parameters(), lr=0.001)\n",
    "train_model(model, cnn_loader, criterion, optimizer)\n",
    "evaluate_model(model, cnn_loader)\n"
   ]
  }
 ],
 "metadata": {
  "kernelspec": {
   "display_name": "Python 3 (ipykernel)",
   "language": "python",
   "name": "python3"
  },
  "language_info": {
   "codemirror_mode": {
    "name": "ipython",
    "version": 3
   },
   "file_extension": ".py",
   "mimetype": "text/x-python",
   "name": "python",
   "nbconvert_exporter": "python",
   "pygments_lexer": "ipython3",
   "version": "3.12.3"
  }
 },
 "nbformat": 4,
 "nbformat_minor": 5
}
